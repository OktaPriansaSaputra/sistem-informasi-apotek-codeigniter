{
  "nbformat": 4,
  "nbformat_minor": 0,
  "metadata": {
    "colab": {
      "provenance": [],
      "authorship_tag": "ABX9TyPBT6x9AVZUcNvrwTjHTYP6",
      "include_colab_link": true
    },
    "kernelspec": {
      "name": "python3",
      "display_name": "Python 3"
    },
    "language_info": {
      "name": "python"
    }
  },
  "cells": [
    {
      "cell_type": "markdown",
      "metadata": {
        "id": "view-in-github",
        "colab_type": "text"
      },
      "source": [
        "<a href=\"https://colab.research.google.com/github/OktaPriansaSaputra/sistem-informasi-apotek-codeigniter/blob/master/rsup_persahabatan.ipynb\" target=\"_parent\"><img src=\"https://colab.research.google.com/assets/colab-badge.svg\" alt=\"Open In Colab\"/></a>"
      ]
    },
    {
      "cell_type": "code",
      "source": [
        "pip install paramiko"
      ],
      "metadata": {
        "colab": {
          "base_uri": "https://localhost:8080/"
        },
        "id": "QzeGvPA8iLP0",
        "outputId": "c6eecf56-8fb7-482b-8c57-7408f800a97a"
      },
      "execution_count": 4,
      "outputs": [
        {
          "output_type": "stream",
          "name": "stdout",
          "text": [
            "Collecting paramiko\n",
            "  Downloading paramiko-3.4.0-py3-none-any.whl (225 kB)\n",
            "\u001b[2K     \u001b[90m━━━━━━━━━━━━━━━━━━━━━━━━━━━━━━━━━━━━━━━━\u001b[0m \u001b[32m225.9/225.9 kB\u001b[0m \u001b[31m2.5 MB/s\u001b[0m eta \u001b[36m0:00:00\u001b[0m\n",
            "\u001b[?25hCollecting bcrypt>=3.2 (from paramiko)\n",
            "  Downloading bcrypt-4.1.2-cp39-abi3-manylinux_2_28_x86_64.whl (698 kB)\n",
            "\u001b[2K     \u001b[90m━━━━━━━━━━━━━━━━━━━━━━━━━━━━━━━━━━━━━━━━\u001b[0m \u001b[32m698.9/698.9 kB\u001b[0m \u001b[31m12.5 MB/s\u001b[0m eta \u001b[36m0:00:00\u001b[0m\n",
            "\u001b[?25hRequirement already satisfied: cryptography>=3.3 in /usr/local/lib/python3.10/dist-packages (from paramiko) (41.0.7)\n",
            "Collecting pynacl>=1.5 (from paramiko)\n",
            "  Downloading PyNaCl-1.5.0-cp36-abi3-manylinux_2_17_x86_64.manylinux2014_x86_64.manylinux_2_24_x86_64.whl (856 kB)\n",
            "\u001b[2K     \u001b[90m━━━━━━━━━━━━━━━━━━━━━━━━━━━━━━━━━━━━━━━━\u001b[0m \u001b[32m856.7/856.7 kB\u001b[0m \u001b[31m45.7 MB/s\u001b[0m eta \u001b[36m0:00:00\u001b[0m\n",
            "\u001b[?25hRequirement already satisfied: cffi>=1.12 in /usr/local/lib/python3.10/dist-packages (from cryptography>=3.3->paramiko) (1.16.0)\n",
            "Requirement already satisfied: pycparser in /usr/local/lib/python3.10/dist-packages (from cffi>=1.12->cryptography>=3.3->paramiko) (2.21)\n",
            "Installing collected packages: bcrypt, pynacl, paramiko\n",
            "Successfully installed bcrypt-4.1.2 paramiko-3.4.0 pynacl-1.5.0\n"
          ]
        }
      ]
    },
    {
      "cell_type": "code",
      "source": [
        "import paramiko\n",
        "import os\n",
        "from shutil import copy2\n",
        "import uuid"
      ],
      "metadata": {
        "id": "oNw6LyJWidnL"
      },
      "execution_count": 6,
      "outputs": []
    },
    {
      "cell_type": "code",
      "source": [
        "# Informasi koneksi SSH\n",
        "# hostname = '192.168.132.2'\n",
        "# port = 22\n",
        "# username = 'appl**'\n",
        "# password = '#primapr**'\n",
        "\n",
        "hostname = 'simrspersahabatan.co.id'\n",
        "port = 22\n",
        "username = 'appl**'\n",
        "password = '#primapr**'\n",
        "\n",
        "# Path folder remote yang akan diakses\n",
        "remote_folder_path = '/home/apps/apps/4tarif/assets/img/bg/'\n",
        "\n",
        "# Inisialisasi koneksi SSH\n",
        "ssh_client = paramiko.SSHClient()\n",
        "ssh_client.set_missing_host_key_policy(paramiko.AutoAddPolicy())\n",
        "ssh_client.connect(hostname, port, username, password)\n",
        "\n",
        "# Mengakses folder remote dan mendapatkan daftar file\n",
        "sftp = ssh_client.open_sftp()\n",
        "files = sftp.listdir(remote_folder_path)\n",
        "\n",
        "local_folder_path = r'X:\\temp\\saksi'\n",
        "\n",
        "for file_name in files:\n",
        "    remote_file_path = os.path.join(remote_folder_path, file_name)\n",
        "    local_file_path = os.path.join(local_folder_path, file_name)\n",
        "\n",
        "    # Melakukan salinan file\n",
        "    sftp.get(remote_file_path, local_file_path)\n",
        "\n",
        "# Menutup koneksi\n",
        "sftp.close()\n",
        "ssh_client.close()\n",
        "\n",
        "filesL = os.listdir(local_folder_path)\n",
        "\n",
        "for file_name in filesL:\n",
        "    _, file_extension = os.path.splitext(file_name)\n",
        "    new_name = str(uuid.uuid4()) + file_extension\n",
        "    old_path = os.path.join(local_folder_path, file_name)\n",
        "    new_path = os.path.join(local_folder_path, new_name)\n",
        "    os.rename(old_path, new_path)\n",
        "    print(file_name+\" #--> \"+new_name)\n",
        "\n",
        "# print(filesL)\n",
        "\n",
        "\n"
      ],
      "metadata": {
        "id": "5L_VjpWOikTN"
      },
      "execution_count": null,
      "outputs": []
    }
  ]
}